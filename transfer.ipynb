{
 "cells": [
  {
   "cell_type": "code",
   "execution_count": null,
   "id": "2291577d-dfbb-40f8-8cd2-51e643842ae0",
   "metadata": {},
   "outputs": [],
   "source": [
    "from IPython.display import display, Audio\n",
    "\n",
    "from utils import plot_spectrum, spectrum2wav, wav2spectrum\n",
    "from utils import run_transfer"
   ]
  },
  {
   "cell_type": "code",
   "execution_count": null,
   "id": "ba621afd-99d7-47e7-a220-e7100f328543",
   "metadata": {},
   "outputs": [],
   "source": [
    "CONTENT_PATH = \"wavs/songs/imperial.mp3\"\n",
    "STYLE_PATH = \"wavs/songs/usa.mp3\"\n",
    "\n",
    "#CONTENT_PATH = \"wavs/voices/boy.wav\"\n",
    "#STYLE_PATH = \"wavs/voices/girl.wav\"\n",
    "\n",
    "content_s, content_sr = wav2spectrum(CONTENT_PATH)\n",
    "style_s, style_sr = wav2spectrum(STYLE_PATH)"
   ]
  },
  {
   "cell_type": "code",
   "execution_count": null,
   "id": "fb68a52b-d345-4e2c-b8d8-285aefcdd807",
   "metadata": {},
   "outputs": [],
   "source": [
    "plot_spectrum(content_s)\n",
    "content_wav = spectrum2wav(content_s)\n",
    "display(Audio(content_wav, rate=content_sr))\n",
    "\n",
    "plot_spectrum(style_s)\n",
    "style_wav = spectrum2wav(style_s)\n",
    "display(Audio(style_wav, rate=style_sr))"
   ]
  },
  {
   "cell_type": "code",
   "execution_count": null,
   "id": "4275d01b-e0bc-4da4-b5ca-4ebdd44002b7",
   "metadata": {},
   "outputs": [],
   "source": [
    "%%time\n",
    "result = run_transfer(content_s, style_s,\n",
    "                      content_weight=1e3, style_weight=1,\n",
    "                      cnn_channels=16, cnn_kernel=(3,3),\n",
    "                      learning_rate=.1, num_steps=2000\n",
    "                     )"
   ]
  },
  {
   "cell_type": "code",
   "execution_count": null,
   "id": "bc7d85cd-ea7c-4c6f-8b9c-b241e2a6be91",
   "metadata": {},
   "outputs": [],
   "source": [
    "result_s = result.cpu().data.numpy().squeeze()\n",
    "plot_spectrum(result_s)\n",
    "\n",
    "result_wav = spectrum2wav(result_s)\n",
    "display(Audio(result_wav, rate=style_sr))"
   ]
  },
  {
   "cell_type": "code",
   "execution_count": null,
   "id": "aa296823-acab-481b-8e69-680de5c4d72b",
   "metadata": {},
   "outputs": [],
   "source": []
  }
 ],
 "metadata": {
  "kernelspec": {
   "display_name": "Python 3 (ipykernel)",
   "language": "python",
   "name": "python3"
  },
  "language_info": {
   "codemirror_mode": {
    "name": "ipython",
    "version": 3
   },
   "file_extension": ".py",
   "mimetype": "text/x-python",
   "name": "python",
   "nbconvert_exporter": "python",
   "pygments_lexer": "ipython3",
   "version": "3.10.9"
  }
 },
 "nbformat": 4,
 "nbformat_minor": 5
}
